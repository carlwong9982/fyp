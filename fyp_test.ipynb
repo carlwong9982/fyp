{
 "cells": [
  {
   "cell_type": "code",
   "execution_count": 46,
   "metadata": {
    "collapsed": true
   },
   "outputs": [],
   "source": [
    "import numpy as np\n",
    "from sklearn.linear_model import LogisticRegression\n",
    "from sklearn import datasets\n",
    "from sklearn.model_selection import train_test_split\n",
    "from sklearn.metrics import accuracy_score"
   ]
  },
  {
   "cell_type": "code",
   "execution_count": 73,
   "metadata": {},
   "outputs": [],
   "source": [
    "#Black-Box Jacobian Augmentation\n",
    "\n",
    "class SubstituteModel: \n",
    "    def __init__(self, victim, x_init, model_init):\n",
    "        self.victim = victim\n",
    "        self.x = x_init\n",
    "        self.model = model_init\n",
    "\n",
    "    def getPrediction(self, x):\n",
    "        return self.victim.predict(x)\n",
    "    \n",
    "    def train(self, iteration, alpha):\n",
    "        x = self.x\n",
    "        y = self.getPrediction(x)\n",
    "        model = self.model\n",
    "        model.fit(x, y)\n",
    "\n",
    "        for augment_step in range(iteration):\n",
    "            \n",
    "            print('iteration: ' + str(augment_step + 1))\n",
    "\n",
    "            #create synthetic sample\n",
    "            x_prob = model.predict_proba(x)[:, 1]\n",
    "            theta = model.coef_\n",
    "\n",
    "            # (h(x)-y)*theta/m\n",
    "            gradient_wrt_x = (np.sum(x_prob - y) * theta)/y.shape[0]\n",
    "            x_adv = x + gradient_wrt_x * alpha\n",
    "            x = np.concatenate((x, x_adv), axis=0)\n",
    "            y = self.getPrediction(x)\n",
    "            model.fit(x, y)\n",
    "        \n",
    "        self.model = model"
   ]
  },
  {
   "cell_type": "code",
   "execution_count": 88,
   "metadata": {},
   "outputs": [
    {
     "output_type": "stream",
     "name": "stdout",
     "text": [
      "iteration: 1\niteration: 2\niteration: 3\niteration: 4\niteration: 5\n1.0\n"
     ]
    }
   ],
   "source": [
    "#Run\n",
    "\n",
    "iris = datasets.load_iris()\n",
    "x = iris.data\n",
    "y = (iris.target != 0) * 1\n",
    "xtrain, xtest, ytrain, ytest = train_test_split(x,y, test_size=0.2, random_state=0)\n",
    "\n",
    "victim = LogisticRegression().fit(xtrain, ytrain)\n",
    "\n",
    "np.random.seed(0)   \n",
    "idx = np.random.randint(150, size=3)\n",
    "x_init = x[idx,:]\n",
    "\n",
    "model_init = LogisticRegression()\n",
    "\n",
    "submodel = SubstituteModel(victim, x_init, model_init)\n",
    "submodel.train(iteration=5, alpha=0.5)\n",
    "\n",
    "victim_pred = victim.predict(x)\n",
    "submodel_pred = submodel.model.predict(x)\n",
    "submodel_accuracy = accuracy_score(victim_pred, submodel_pred)\n",
    "print(submodel_accuracy)"
   ]
  },
  {
   "cell_type": "code",
   "execution_count": null,
   "metadata": {},
   "outputs": [],
   "source": [
    "#Test\n",
    "\n",
    "iris = datasets.load_iris()\n",
    "x = iris.data\n",
    "y = iris.target\n",
    "xtrain, xtest, ytrain, ytest = train_test_split(x,y, test_size=0.2, random_state=0)\n",
    "\n",
    "model = LogisticRegression(multi_class=\"ovr\").fit(xtrain, ytrain)\n",
    "theta = model.coef_\n",
    "\n",
    "xpred = model.predict(xtrain)\n",
    "print(\"model's training accuracy: \", accuracy_score(xpred, ytrain))\n",
    "xpred = model.predict(xtest)\n",
    "print(\"model's testing accuracy: \", accuracy_score(xpred, ytest))"
   ]
  },
  {
   "cell_type": "code",
   "execution_count": 45,
   "metadata": {},
   "outputs": [
    {
     "output_type": "stream",
     "name": "stdout",
     "text": [
      "[[4.6 3.2 1.4 0.2]\n [7.7 3.8 6.7 2.2]\n [5.8 2.7 4.1 1. ]\n [6.3 2.9 5.6 1.8]\n [4.9 3.1 1.5 0.1]\n [5.1 3.7 1.5 0.4]\n [5.5 3.5 1.3 0.2]\n [6.3 2.3 4.4 1.3]\n [5.9 3.2 4.8 1.8]\n [5.6 3.  4.1 1.3]]\n[-0.91087191 -1.77775084 11.92459587  9.26554611]\n[[ 3.68912809  1.42224916 13.32459587  9.46554611]\n [ 6.78912809  2.02224916 18.62459587 11.46554611]\n [ 4.88912809  0.92224916 16.02459587 10.26554611]\n [ 5.38912809  1.12224916 17.52459587 11.06554611]\n [ 3.98912809  1.32224916 13.42459587  9.36554611]\n [ 4.18912809  1.92224916 13.42459587  9.66554611]\n [ 4.58912809  1.72224916 13.22459587  9.46554611]\n [ 5.38912809  0.52224916 16.32459587 10.56554611]\n [ 4.98912809  1.42224916 16.72459587 11.06554611]\n [ 4.68912809  1.22224916 16.02459587 10.56554611]]\n[0 2 1 2 0 0 0 1 2 1]\n[2 2 2 2 2 2 2 2 2 2]\n"
     ]
    }
   ],
   "source": [
    " #create adversary exmaple for one class (k=2)\n",
    "\n",
    " np.random.seed(0)   \n",
    " idx = np.random.randint(150, size=10)\n",
    " xadv = x[idx,:]\n",
    " yadv = y[idx]\n",
    " ytrue = []\n",
    " alpha = 1000\n",
    "\n",
    " adv_pred = model.predict(xadv)\n",
    " adv_prob = model.predict_proba(xadv)\n",
    "\n",
    " for i in yadv:\n",
    "     ytrue.append(int(i==2))\n",
    "\n",
    " # cal for sum(h-y)\n",
    " h_minus_y = adv_prob[:, 2] - ytrue\n",
    " sumhy = 0\n",
    " for i in h_minus_y:\n",
    "     sumhy += i\n",
    "\n",
    " gradient_wrt_x = (theta[2] * sumhy)/y.shape[0]\n",
    " xadvs = xadv + gradient_wrt_x * alpha\n",
    " adv_preds = model.predict(xadvs)\n",
    "\n",
    " print(xadv)\n",
    " print(gradient_wrt_x * alpha)\n",
    " print(xadvs)\n",
    " print(adv_pred)\n",
    " print(adv_preds)"
   ]
  }
 ],
 "metadata": {
  "kernelspec": {
   "name": "python3",
   "display_name": "Python 3",
   "language": "python"
  },
  "language_info": {
   "codemirror_mode": {
    "name": "ipython",
    "version": 3
   },
   "file_extension": ".py",
   "mimetype": "text/x-python",
   "name": "python",
   "nbconvert_exporter": "python",
   "pygments_lexer": "ipython3",
   "version": "3.8.5-final"
  }
 },
 "nbformat": 4,
 "nbformat_minor": 2
}